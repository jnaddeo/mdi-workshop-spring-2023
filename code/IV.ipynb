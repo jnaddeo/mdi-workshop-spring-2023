{
 "cells": [
  {
   "cell_type": "markdown",
   "metadata": {},
   "source": [
    "# Instrumental Variables\n",
    "\n",
    "This notebook will simulate IV with bianry treatment and instrument."
   ]
  },
  {
   "cell_type": "markdown",
   "metadata": {},
   "source": [
    "## Import packages"
   ]
  },
  {
   "cell_type": "code",
   "execution_count": 3,
   "metadata": {},
   "outputs": [],
   "source": [
    "import pandas as pd\n",
    "import numpy as np\n",
    "import statsmodels.api as sm\n",
    "import pathlib\n",
    "import matplotlib.pyplot as plt"
   ]
  },
  {
   "cell_type": "markdown",
   "metadata": {},
   "source": [
    "## Set up directory structure"
   ]
  },
  {
   "cell_type": "code",
   "execution_count": 4,
   "metadata": {},
   "outputs": [],
   "source": [
    "repo_f = pathlib.Path.cwd().parent"
   ]
  },
  {
   "cell_type": "markdown",
   "metadata": {},
   "source": [
    "## Simple IV with Constant Treatment Effects"
   ]
  },
  {
   "cell_type": "code",
   "execution_count": 38,
   "metadata": {},
   "outputs": [],
   "source": [
    "def create_IV_data(coef_interest=0.8, epsilon_1_and_2=0.5):\n",
    "\n",
    "    # Create a dataframe \n",
    "\n",
    "    # Main independent variable\n",
    "    df = pd.DataFrame(np.random.normal(0, 1, 100000).reshape(100000, 1), columns=['epsilon_2'])\n",
    "\n",
    "    df['X_2'] = np.random.normal(0, 2, 100000) + df['epsilon_2']\n",
    "\n",
    "    # Create instrument\n",
    "    df['Z'] = np.random.uniform(0, 1, 100000)\n",
    "\n",
    "    # Round to make Z binary\n",
    "    df['Z'] = np.round(df['Z'])\n",
    "\n",
    "    # Treatment variable that is 1 if latent variable is greater than 0\n",
    "    # Notice that the instrument only affects the treatment variable in a\n",
    "    # positive way\n",
    "    \n",
    "    df['treatment'] = np.where(df['X_2'] + df['Z'] > 0, 1, 0)\n",
    "\n",
    "    # Error term\n",
    "    df['epsilon_1'] = epsilon_1_and_2*df['epsilon_2']\n",
    "\n",
    "    # Dependent variable\n",
    "    df['Y'] = coef_interest*df['treatment'] + 5 + df['epsilon_1']\n",
    "    \n",
    "\n",
    "    return df\n"
   ]
  },
  {
   "cell_type": "code",
   "execution_count": 39,
   "metadata": {},
   "outputs": [],
   "source": [
    "df = create_IV_data()"
   ]
  },
  {
   "cell_type": "code",
   "execution_count": 40,
   "metadata": {},
   "outputs": [
    {
     "name": "stdout",
     "output_type": "stream",
     "text": [
      "                            OLS Regression Results                            \n",
      "==============================================================================\n",
      "Dep. Variable:                      Y   R-squared:                       0.593\n",
      "Model:                            OLS   Adj. R-squared:                  0.593\n",
      "Method:                 Least Squares   F-statistic:                 1.457e+05\n",
      "Date:                Tue, 18 Apr 2023   Prob (F-statistic):               0.00\n",
      "Time:                        10:09:19   Log-Likelihood:                -66105.\n",
      "No. Observations:              100000   AIC:                         1.322e+05\n",
      "Df Residuals:                   99998   BIC:                         1.322e+05\n",
      "Df Model:                           1                                         \n",
      "Covariance Type:            nonrobust                                         \n",
      "==============================================================================\n",
      "                 coef    std err          t      P>|t|      [0.025      0.975]\n",
      "------------------------------------------------------------------------------\n",
      "const          4.7935      0.002   2078.689      0.000       4.789       4.798\n",
      "treatment      1.1488      0.003    381.667      0.000       1.143       1.155\n",
      "==============================================================================\n",
      "Omnibus:                        0.084   Durbin-Watson:                   2.002\n",
      "Prob(Omnibus):                  0.959   Jarque-Bera (JB):                0.089\n",
      "Skew:                           0.001   Prob(JB):                        0.956\n",
      "Kurtosis:                       2.996   Cond. No.                         2.88\n",
      "==============================================================================\n",
      "\n",
      "Notes:\n",
      "[1] Standard Errors assume that the covariance matrix of the errors is correctly specified.\n"
     ]
    }
   ],
   "source": [
    "# Run OLS regression\n",
    "X = df[['treatment']]\n",
    "X = sm.add_constant(X)\n",
    "Y = df['Y']\n",
    "model = sm.OLS(Y, X)\n",
    "results = model.fit()\n",
    "print(results.summary())"
   ]
  },
  {
   "cell_type": "code",
   "execution_count": 41,
   "metadata": {},
   "outputs": [
    {
     "name": "stdout",
     "output_type": "stream",
     "text": [
      "                            OLS Regression Results                            \n",
      "==============================================================================\n",
      "Dep. Variable:              treatment   R-squared:                       0.032\n",
      "Model:                            OLS   Adj. R-squared:                  0.032\n",
      "Method:                 Least Squares   F-statistic:                     3330.\n",
      "Date:                Tue, 18 Apr 2023   Prob (F-statistic):               0.00\n",
      "Time:                        10:09:24   Log-Likelihood:                -69405.\n",
      "No. Observations:              100000   AIC:                         1.388e+05\n",
      "Df Residuals:                   99998   BIC:                         1.388e+05\n",
      "Df Model:                           1                                         \n",
      "Covariance Type:            nonrobust                                         \n",
      "==============================================================================\n",
      "                 coef    std err          t      P>|t|      [0.025      0.975]\n",
      "------------------------------------------------------------------------------\n",
      "const          0.4986      0.002    230.215      0.000       0.494       0.503\n",
      "Z              0.1768      0.003     57.708      0.000       0.171       0.183\n",
      "==============================================================================\n",
      "Omnibus:                   409872.680   Durbin-Watson:                   1.988\n",
      "Prob(Omnibus):                  0.000   Jarque-Bera (JB):            14643.363\n",
      "Skew:                          -0.335   Prob(JB):                         0.00\n",
      "Kurtosis:                       1.249   Cond. No.                         2.62\n",
      "==============================================================================\n",
      "\n",
      "Notes:\n",
      "[1] Standard Errors assume that the covariance matrix of the errors is correctly specified.\n",
      "                            OLS Regression Results                            \n",
      "==============================================================================\n",
      "Dep. Variable:                      Y   R-squared:                       0.009\n",
      "Model:                            OLS   Adj. R-squared:                  0.009\n",
      "Method:                 Least Squares   F-statistic:                     901.2\n",
      "Date:                Tue, 18 Apr 2023   Prob (F-statistic):          4.02e-197\n",
      "Time:                        10:09:24   Log-Likelihood:            -1.1060e+05\n",
      "No. Observations:              100000   AIC:                         2.212e+05\n",
      "Df Residuals:                   99998   BIC:                         2.212e+05\n",
      "Df Model:                           1                                         \n",
      "Covariance Type:            nonrobust                                         \n",
      "==============================================================================\n",
      "                 coef    std err          t      P>|t|      [0.025      0.975]\n",
      "------------------------------------------------------------------------------\n",
      "const          5.3984      0.003   1651.002      0.000       5.392       5.405\n",
      "Z              0.1388      0.005     30.020      0.000       0.130       0.148\n",
      "==============================================================================\n",
      "Omnibus:                     3617.447   Durbin-Watson:                   1.997\n",
      "Prob(Omnibus):                  0.000   Jarque-Bera (JB):             1859.981\n",
      "Skew:                          -0.145   Prob(JB):                         0.00\n",
      "Kurtosis:                       2.398   Cond. No.                         2.62\n",
      "==============================================================================\n",
      "\n",
      "Notes:\n",
      "[1] Standard Errors assume that the covariance matrix of the errors is correctly specified.\n"
     ]
    }
   ],
   "source": [
    "# Run IV regression \"by hand\"\n",
    "\n",
    "# First stage\n",
    "X = df[['Z']]\n",
    "X = sm.add_constant(X)\n",
    "Y = df['treatment']\n",
    "model = sm.OLS(Y, X)\n",
    "results = model.fit()\n",
    "print(results.summary())\n",
    "\n",
    "# Second stage\n",
    "X = df[['Z']]\n",
    "X = sm.add_constant(X)\n",
    "Y = df['Y']\n",
    "model = sm.OLS(Y, X)\n",
    "results = model.fit()\n",
    "print(results.summary())"
   ]
  },
  {
   "cell_type": "code",
   "execution_count": 42,
   "metadata": {},
   "outputs": [
    {
     "name": "stdout",
     "output_type": "stream",
     "text": [
      "                          IV2SLS Regression Results                           \n",
      "==============================================================================\n",
      "Dep. Variable:                      Y   R-squared:                       0.534\n",
      "Model:                         IV2SLS   Adj. R-squared:                  0.534\n",
      "Method:                     Two Stage   F-statistic:                     1915.\n",
      "                        Least Squares   Prob (F-statistic):               0.00\n",
      "Date:                Tue, 18 Apr 2023                                         \n",
      "Time:                        10:10:01                                         \n",
      "No. Observations:              100000                                         \n",
      "Df Residuals:                   99998                                         \n",
      "Df Model:                           1                                         \n",
      "==============================================================================\n",
      "                 coef    std err          t      P>|t|      [0.025      0.975]\n",
      "------------------------------------------------------------------------------\n",
      "treatment      0.7854      0.018     43.762      0.000       0.750       0.821\n",
      "const          5.0068      0.011    470.002      0.000       4.986       5.028\n",
      "==============================================================================\n",
      "Omnibus:                        1.182   Durbin-Watson:                   2.004\n",
      "Prob(Omnibus):                  0.554   Jarque-Bera (JB):                1.192\n",
      "Skew:                          -0.007   Prob(JB):                        0.551\n",
      "Kurtosis:                       2.991   Cond. No.                         2.88\n",
      "==============================================================================\n"
     ]
    }
   ],
   "source": [
    "# Run IV regression using statsmodels\n",
    "import statsmodels.sandbox.regression.gmm as gmm\n",
    "Z = df[['treatment','Z']]\n",
    "Z = sm.add_constant(Z)\n",
    "Y = df['Y']\n",
    "model = gmm.IV2SLS(endog = Y, exog = Z[['treatment', 'const']], instrument = Z[['Z', 'const']])\n",
    "results = model.fit()\n",
    "print(results.summary())"
   ]
  },
  {
   "cell_type": "markdown",
   "metadata": {},
   "source": [
    "## Violate exclusion"
   ]
  },
  {
   "cell_type": "code",
   "execution_count": 111,
   "metadata": {},
   "outputs": [],
   "source": [
    "def create_IV_data(coef_interest=0.8, epsilon_1_and_2=0.5, violate_exclusion=False):\n",
    "\n",
    "    # Create a dataframe \n",
    "\n",
    "    # Main independent variable\n",
    "    df = pd.DataFrame(np.random.normal(0, 1, 100000).reshape(100000, 1), columns=['epsilon_2'])\n",
    "\n",
    "    df['X_2'] = np.random.normal(0, 2, 100000) + df['epsilon_2']\n",
    "\n",
    "    # Create instrument\n",
    "    df['Z'] = np.random.uniform(0, 1, 100000)\n",
    "\n",
    "    # Round to make Z binary\n",
    "    df['Z'] = np.round(df['Z'])\n",
    "\n",
    "    # Treatment variable that is 1 if latent variable is greater than 0\n",
    "    # Notice that the instrument only affects the treatment variable in a\n",
    "    # positive way\n",
    "    \n",
    "    df['treatment'] = np.where(df['X_2'] + df['Z'] > 0, 1, 0)\n",
    "\n",
    "    # Error term\n",
    "    df['epsilon_1'] = epsilon_1_and_2*df['epsilon_2']\n",
    "\n",
    "    # Dependent variable\n",
    "    if violate_exclusion:\n",
    "        df['Y'] = coef_interest*df['treatment'] + 5 + df['epsilon_1'] + df['Z']\n",
    "    else:\n",
    "        df['Y'] = coef_interest*df['treatment'] + 5 + df['epsilon_1']\n",
    "        \n",
    "    return df\n"
   ]
  },
  {
   "cell_type": "code",
   "execution_count": 112,
   "metadata": {},
   "outputs": [],
   "source": [
    "df_violate = create_IV_data(violate_exclusion=True)"
   ]
  },
  {
   "cell_type": "code",
   "execution_count": 113,
   "metadata": {},
   "outputs": [
    {
     "name": "stdout",
     "output_type": "stream",
     "text": [
      "                            OLS Regression Results                            \n",
      "==============================================================================\n",
      "Dep. Variable:                      Y   R-squared:                       0.498\n",
      "Model:                            OLS   Adj. R-squared:                  0.498\n",
      "Method:                 Least Squares   F-statistic:                 9.933e+04\n",
      "Date:                Tue, 18 Apr 2023   Prob (F-statistic):               0.00\n",
      "Time:                        10:53:55   Log-Likelihood:                -99816.\n",
      "No. Observations:              100000   AIC:                         1.996e+05\n",
      "Df Residuals:                   99998   BIC:                         1.997e+05\n",
      "Df Model:                           1                                         \n",
      "Covariance Type:            nonrobust                                         \n",
      "==============================================================================\n",
      "                 coef    std err          t      P>|t|      [0.025      0.975]\n",
      "------------------------------------------------------------------------------\n",
      "const          5.1913      0.003   1608.084      0.000       5.185       5.198\n",
      "treatment      1.3287      0.004    315.173      0.000       1.320       1.337\n",
      "==============================================================================\n",
      "Omnibus:                     1472.753   Durbin-Watson:                   1.997\n",
      "Prob(Omnibus):                  0.000   Jarque-Bera (JB):              857.439\n",
      "Skew:                           0.004   Prob(JB):                    6.45e-187\n",
      "Kurtosis:                       2.546   Cond. No.                         2.87\n",
      "==============================================================================\n",
      "\n",
      "Notes:\n",
      "[1] Standard Errors assume that the covariance matrix of the errors is correctly specified.\n"
     ]
    }
   ],
   "source": [
    "# Run OLS regression\n",
    "X = df_violate[['treatment']]\n",
    "X = sm.add_constant(X)\n",
    "Y = df_violate['Y']\n",
    "model = sm.OLS(Y, X)\n",
    "results = model.fit()\n",
    "print(results.summary())"
   ]
  },
  {
   "cell_type": "code",
   "execution_count": 115,
   "metadata": {},
   "outputs": [
    {
     "name": "stdout",
     "output_type": "stream",
     "text": [
      "                          IV2SLS Regression Results                           \n",
      "==============================================================================\n",
      "Dep. Variable:                      Y   R-squared:                      -7.120\n",
      "Model:                         IV2SLS   Adj. R-squared:                 -7.120\n",
      "Method:                     Two Stage   F-statistic:                     4636.\n",
      "                        Least Squares   Prob (F-statistic):               0.00\n",
      "Date:                Tue, 18 Apr 2023                                         \n",
      "Time:                        10:54:26                                         \n",
      "No. Observations:              100000                                         \n",
      "Df Residuals:                   99998                                         \n",
      "Df Model:                           1                                         \n",
      "==============================================================================\n",
      "                 coef    std err          t      P>|t|      [0.025      0.975]\n",
      "------------------------------------------------------------------------------\n",
      "treatment      6.5237      0.096     68.087      0.000       6.336       6.712\n",
      "const          2.1450      0.057     37.762      0.000       2.034       2.256\n",
      "==============================================================================\n",
      "Omnibus:                   458582.824   Durbin-Watson:                   2.000\n",
      "Prob(Omnibus):                  0.000   Jarque-Bera (JB):            13004.644\n",
      "Skew:                           0.317   Prob(JB):                         0.00\n",
      "Kurtosis:                       1.351   Cond. No.                         2.87\n",
      "==============================================================================\n"
     ]
    }
   ],
   "source": [
    "# Run IV regression using statsmodels\n",
    "import statsmodels.sandbox.regression.gmm as gmm\n",
    "Z = df_violate[['treatment','Z']]\n",
    "Z = sm.add_constant(Z)\n",
    "Y = df_violate['Y']\n",
    "model = gmm.IV2SLS(endog = Y, exog = Z[['treatment', 'const']], instrument = Z[['Z', 'const']])\n",
    "results = model.fit()\n",
    "print(results.summary())"
   ]
  }
 ],
 "metadata": {
  "kernelspec": {
   "display_name": "Python 3.11.0 ('mdi_workshop_env_SP23')",
   "language": "python",
   "name": "python3"
  },
  "language_info": {
   "codemirror_mode": {
    "name": "ipython",
    "version": 3
   },
   "file_extension": ".py",
   "mimetype": "text/x-python",
   "name": "python",
   "nbconvert_exporter": "python",
   "pygments_lexer": "ipython3",
   "version": "3.11.0"
  },
  "orig_nbformat": 4,
  "vscode": {
   "interpreter": {
    "hash": "bce1c71bfe9a7968ebf2c2e953f8b0c3657414c48bbf722e7aae91ab664392ac"
   }
  }
 },
 "nbformat": 4,
 "nbformat_minor": 2
}
